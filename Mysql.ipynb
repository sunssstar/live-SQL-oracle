{
 "cells": [
  {
   "cell_type": "markdown",
   "metadata": {},
   "source": [
    "mysql workbech 에서  'schema'를 생성 ->db_mysql"
   ]
  },
  {
   "cell_type": "code",
   "execution_count": 48,
   "metadata": {},
   "outputs": [
    {
     "name": "stdout",
     "output_type": "stream",
     "text": [
      "Requirement already satisfied: pymysql in c:\\users\\user\\anaconda3\\lib\\site-packages (1.1.0)\n"
     ]
    }
   ],
   "source": [
    "!pip install pymysql"
   ]
  },
  {
   "cell_type": "code",
   "execution_count": 49,
   "metadata": {},
   "outputs": [],
   "source": [
    "import pymysql"
   ]
  },
  {
   "cell_type": "markdown",
   "metadata": {},
   "source": [
    "파이썬 mysql 연동\n",
    "\n",
    "1. mysql 연결하기\n",
    "2. cursor 생성\n",
    "3. sql  쿼리문으로 질의 \n",
    "4. mysql  연결 종료"
   ]
  },
  {
   "cell_type": "code",
   "execution_count": 50,
   "metadata": {},
   "outputs": [],
   "source": [
    "# 1. 파이썬에서 mysql 연동\n",
    "# 연결자 생성 -> mysql 연결하기\n",
    "\n",
    "conn = \\\n",
    "pymysql.connect(host = '127.0.0.1'      # DB서버 주소\n",
    "                , user = 'root'         # 계정\n",
    "                , password = '0000'     # 비밀번호\n",
    "                , db = 'db_mysql'       # DB 이름\n",
    "                ,charset = 'utf8')      # 문자 인코딩\n",
    "                "
   ]
  },
  {
   "cell_type": "code",
   "execution_count": 51,
   "metadata": {},
   "outputs": [],
   "source": [
    "# 2. 커서를 생성 -  DB와 연락을 주고받기\n",
    "\n",
    "cur = conn.cursor()"
   ]
  },
  {
   "cell_type": "code",
   "execution_count": 52,
   "metadata": {},
   "outputs": [
    {
     "data": {
      "text/plain": [
       "2"
      ]
     },
     "execution_count": 52,
     "metadata": {},
     "output_type": "execute_result"
    }
   ],
   "source": [
    "# 3. sql 쿼리문으로 질의\n",
    "\n",
    "sql = 'select * from tbl_users'\n",
    "cur.execute(sql) # 2개 존재"
   ]
  },
  {
   "cell_type": "code",
   "execution_count": 53,
   "metadata": {},
   "outputs": [],
   "source": [
    "# 쿼리 실행 결과를 한 줄씩 읽어오기\n",
    "\n",
    "# row = cur.fetchone()\n",
    "# print(row)"
   ]
  },
  {
   "cell_type": "code",
   "execution_count": 54,
   "metadata": {},
   "outputs": [],
   "source": [
    "# row = cur.fetchone()\n",
    "# print(row)  # 그 다음줄 읽어옴"
   ]
  },
  {
   "cell_type": "code",
   "execution_count": 55,
   "metadata": {},
   "outputs": [],
   "source": [
    "# row = cur.fetchone()\n",
    "# print(row)  # 그 다음 줄이 없으므로 None"
   ]
  },
  {
   "cell_type": "code",
   "execution_count": 56,
   "metadata": {},
   "outputs": [],
   "source": [
    "# 실행결과물 확인(한번에 처리)\n",
    "\n",
    "# rows = cur.fetchall()\n",
    "\n",
    "#for row in rows:\n",
    "#    print(row)"
   ]
  },
  {
   "cell_type": "code",
   "execution_count": 57,
   "metadata": {},
   "outputs": [
    {
     "name": "stdout",
     "output_type": "stream",
     "text": [
      "(1, '아이유', '1111')\n",
      "<class 'tuple'>\n",
      "1 아이유 1111\n",
      "(2, '카리나', '2222')\n",
      "<class 'tuple'>\n",
      "2 카리나 2222\n"
     ]
    }
   ],
   "source": [
    "while True: \n",
    "    # 한줄씩 가져오기\n",
    "    row = cur.fetchone()\n",
    "    \n",
    "    # 더 이상 가져올 결과가 없으면 None이 나오기 때문에 break\n",
    "    if row == None:\n",
    "        break   # 정지조건\n",
    "    print(row)\n",
    "    print(type(row))\n",
    "    print(row[0],row[1],row[2])"
   ]
  },
  {
   "cell_type": "code",
   "execution_count": 58,
   "metadata": {},
   "outputs": [
    {
     "data": {
      "text/plain": [
       "(('idx', 3, None, 11, 11, 0, False),\n",
       " ('user_name', 253, None, 45, 45, 0, False),\n",
       " ('phone', 253, None, 45, 45, 0, False))"
      ]
     },
     "execution_count": 58,
     "metadata": {},
     "output_type": "execute_result"
    }
   ],
   "source": [
    "# 컬럼명 추출하기\n",
    "\n",
    "col_names = cur.description\n",
    "col_names"
   ]
  },
  {
   "cell_type": "code",
   "execution_count": 62,
   "metadata": {},
   "outputs": [
    {
     "data": {
      "text/plain": [
       "('user_name', 253, None, 45, 45, 0, False)"
      ]
     },
     "execution_count": 62,
     "metadata": {},
     "output_type": "execute_result"
    }
   ],
   "source": [
    "col_names[1]"
   ]
  },
  {
   "cell_type": "code",
   "execution_count": 63,
   "metadata": {},
   "outputs": [
    {
     "data": {
      "text/plain": [
       "'user_name'"
      ]
     },
     "execution_count": 63,
     "metadata": {},
     "output_type": "execute_result"
    }
   ],
   "source": [
    "col_names[1][0]"
   ]
  },
  {
   "cell_type": "code",
   "execution_count": 64,
   "metadata": {},
   "outputs": [
    {
     "data": {
      "text/plain": [
       "['idx', 'user_name', 'phone']"
      ]
     },
     "execution_count": 64,
     "metadata": {},
     "output_type": "execute_result"
    }
   ],
   "source": [
    "# .컬렁명을 리스트로 저장\n",
    "\n",
    "col_name = []\n",
    "\n",
    "for colname in col_names:\n",
    "    col_name.append(colname[0])\n",
    "\n",
    "col_name"
   ]
  },
  {
   "cell_type": "markdown",
   "metadata": {},
   "source": [
    "테이플 데이터를 판다스의 데이터프레임 형태로 저장"
   ]
  },
  {
   "cell_type": "code",
   "execution_count": 65,
   "metadata": {},
   "outputs": [],
   "source": [
    "import numpy as np\n",
    "import pandas as pd"
   ]
  },
  {
   "cell_type": "code",
   "execution_count": 67,
   "metadata": {},
   "outputs": [
    {
     "data": {
      "text/html": [
       "<div>\n",
       "<style scoped>\n",
       "    .dataframe tbody tr th:only-of-type {\n",
       "        vertical-align: middle;\n",
       "    }\n",
       "\n",
       "    .dataframe tbody tr th {\n",
       "        vertical-align: top;\n",
       "    }\n",
       "\n",
       "    .dataframe thead th {\n",
       "        text-align: right;\n",
       "    }\n",
       "</style>\n",
       "<table border=\"1\" class=\"dataframe\">\n",
       "  <thead>\n",
       "    <tr style=\"text-align: right;\">\n",
       "      <th></th>\n",
       "      <th>idx</th>\n",
       "      <th>user_name</th>\n",
       "      <th>phone</th>\n",
       "    </tr>\n",
       "  </thead>\n",
       "  <tbody>\n",
       "    <tr>\n",
       "      <th>0</th>\n",
       "      <td>1</td>\n",
       "      <td>아이유</td>\n",
       "      <td>1111</td>\n",
       "    </tr>\n",
       "    <tr>\n",
       "      <th>1</th>\n",
       "      <td>2</td>\n",
       "      <td>카리나</td>\n",
       "      <td>2222</td>\n",
       "    </tr>\n",
       "  </tbody>\n",
       "</table>\n",
       "</div>"
      ],
      "text/plain": [
       "   idx user_name phone\n",
       "0    1       아이유  1111\n",
       "1    2       카리나  2222"
      ]
     },
     "execution_count": 67,
     "metadata": {},
     "output_type": "execute_result"
    }
   ],
   "source": [
    "# 데이터 프레임 변환\n",
    "\n",
    "pd.DataFrame(rows,columns=col_name)"
   ]
  },
  {
   "cell_type": "code",
   "execution_count": 68,
   "metadata": {},
   "outputs": [],
   "source": [
    "raw = pd.DataFrame(rows, columns=col_name)\n",
    "df = raw.copy()"
   ]
  },
  {
   "cell_type": "code",
   "execution_count": 69,
   "metadata": {},
   "outputs": [],
   "source": [
    "# 엑셀로 저장\n",
    "df.to_csv('user.xlsx', index=False)"
   ]
  },
  {
   "cell_type": "markdown",
   "metadata": {},
   "source": [
    "CRUD\n",
    "\n",
    "- C : create 생성\n",
    "- R : read   읽어오기\n",
    "- U : update 수정하기\n",
    "- D : delete 삭제하기"
   ]
  },
  {
   "cell_type": "code",
   "execution_count": 70,
   "metadata": {},
   "outputs": [
    {
     "data": {
      "text/plain": [
       "1"
      ]
     },
     "execution_count": 70,
     "metadata": {},
     "output_type": "execute_result"
    }
   ],
   "source": [
    "# 데이터 생성, 추가\n",
    "# create\n",
    "\n",
    "sql = 'insert into tbl_users(user_name, phone) values(\"닥터윌\",\"3333\")'\n",
    "cur.execute(sql)"
   ]
  },
  {
   "cell_type": "code",
   "execution_count": 72,
   "metadata": {},
   "outputs": [
    {
     "data": {
      "text/plain": [
       "3"
      ]
     },
     "execution_count": 72,
     "metadata": {},
     "output_type": "execute_result"
    }
   ],
   "source": [
    "sql = 'select * from tbl_users'\n",
    "cur.execute(sql)"
   ]
  },
  {
   "cell_type": "code",
   "execution_count": 74,
   "metadata": {},
   "outputs": [
    {
     "name": "stdout",
     "output_type": "stream",
     "text": [
      "(1, '아이유', '1111')\n",
      "(2, '카리나', '2222')\n",
      "(3, '닥터윌', '3333')\n"
     ]
    }
   ],
   "source": [
    "rows = cur.fetchall()\n",
    "\n",
    "for row in rows:\n",
    "    print(row)\n",
    "    \n",
    "# 이렇게 하면 vscode에는 보이지만 mysql에는 보이지 않는다"
   ]
  },
  {
   "cell_type": "code",
   "execution_count": 75,
   "metadata": {},
   "outputs": [],
   "source": [
    "# 저장을 해야하기 때문\n",
    "\n",
    "conn.commit() #commit을 해야 mysql에 저장된다"
   ]
  },
  {
   "cell_type": "code",
   "execution_count": 76,
   "metadata": {},
   "outputs": [
    {
     "data": {
      "text/plain": [
       "1"
      ]
     },
     "execution_count": 76,
     "metadata": {},
     "output_type": "execute_result"
    }
   ],
   "source": [
    "# 간단 퀴즈\n",
    "# 이름 : 윤하, 전화번호 1234 데이터 추가하기\n",
    "\n",
    "sql = 'insert into tbl_users(user_name, phone) values(\"윤하\",\"1234\")'\n",
    "cur.execute(sql)"
   ]
  },
  {
   "cell_type": "code",
   "execution_count": 79,
   "metadata": {},
   "outputs": [
    {
     "data": {
      "text/plain": [
       "4"
      ]
     },
     "execution_count": 79,
     "metadata": {},
     "output_type": "execute_result"
    }
   ],
   "source": [
    "sql = 'select * from tbl_users'\n",
    "cur.execute(sql)"
   ]
  },
  {
   "cell_type": "code",
   "execution_count": 80,
   "metadata": {},
   "outputs": [
    {
     "name": "stdout",
     "output_type": "stream",
     "text": [
      "(1, '아이유', '1111')\n",
      "(2, '카리나', '2222')\n",
      "(3, '닥터윌', '3333')\n",
      "(4, '윤하', '1234')\n"
     ]
    }
   ],
   "source": [
    "rows = cur.fetchall()\n",
    "\n",
    "for row in rows:\n",
    "    print(row)\n",
    "    "
   ]
  },
  {
   "cell_type": "code",
   "execution_count": 77,
   "metadata": {},
   "outputs": [],
   "source": [
    "conn.commit()"
   ]
  },
  {
   "cell_type": "code",
   "execution_count": 81,
   "metadata": {},
   "outputs": [
    {
     "data": {
      "text/plain": [
       "(('아이유', '1111'), ('카리나', '2222'), ('닥터윌', '3333'), ('윤하', '1234'))"
      ]
     },
     "execution_count": 81,
     "metadata": {},
     "output_type": "execute_result"
    }
   ],
   "source": [
    "# READ : 데이터 불러오기(읽기)\n",
    "\n",
    "sql = 'select user_name,phone from tbl_users'\n",
    "\n",
    "cur.execute(sql)\n",
    "cur.fetchall()"
   ]
  },
  {
   "cell_type": "code",
   "execution_count": 82,
   "metadata": {},
   "outputs": [
    {
     "data": {
      "text/plain": [
       "((4, '윤하', '1234'),)"
      ]
     },
     "execution_count": 82,
     "metadata": {},
     "output_type": "execute_result"
    }
   ],
   "source": [
    "# 조건절 where\n",
    "# where 컬럼명 = 값\n",
    "\n",
    "sql = 'select * from tbl_users where user_name = \"윤하\"'\n",
    "\n",
    "cur.execute(sql)\n",
    "cur.fetchall()"
   ]
  },
  {
   "cell_type": "code",
   "execution_count": 83,
   "metadata": {},
   "outputs": [],
   "source": [
    "# update :  데이터 수정/갱신\n",
    "# update 테이블명 set 컬럼명 = 바꿀 값  where 조건"
   ]
  },
  {
   "cell_type": "code",
   "execution_count": 84,
   "metadata": {},
   "outputs": [],
   "source": [
    "# '윤하'의 전화번호를 0486으로 변경하기\n",
    "\n",
    "sql ='update tbl_users set phone= \"0486\" where user_name = \"윤하\"'\n",
    "\n",
    "cur.execute(sql)\n",
    "conn.commit()"
   ]
  },
  {
   "cell_type": "code",
   "execution_count": 85,
   "metadata": {},
   "outputs": [
    {
     "data": {
      "text/plain": [
       "((1, '아이유', '1111'), (2, '카리나', '2222'), (3, '닥터윌', '3333'), (4, '윤하', '0486'))"
      ]
     },
     "execution_count": 85,
     "metadata": {},
     "output_type": "execute_result"
    }
   ],
   "source": [
    "sql = 'select * from tbl_users'\n",
    "cur.execute(sql)\n",
    "cur.fetchall()"
   ]
  },
  {
   "cell_type": "code",
   "execution_count": 92,
   "metadata": {},
   "outputs": [
    {
     "data": {
      "text/plain": [
       "((1, '아이유', '1111'), (2, '카리나', '1515'), (4, '윤하', '0486'))"
      ]
     },
     "execution_count": 92,
     "metadata": {},
     "output_type": "execute_result"
    }
   ],
   "source": [
    "# 간단 퀴즈\n",
    "# 카리나의 전화번호를 1515 번호 변경 코드를 작성해 보세요\n",
    "\n",
    "sql = 'update tbl_users set phone = \"1515\" where user_name = \"카리나\"'\n",
    "\n",
    "cur.execute(sql)\n",
    "conn.commit()\n",
    "\n",
    "sql= 'select*from tbl_users'\n",
    "cur.execute(sql)\n",
    "cur.fetchall()\n"
   ]
  },
  {
   "cell_type": "code",
   "execution_count": 87,
   "metadata": {},
   "outputs": [],
   "source": [
    "# Delete : 데이터 삭제\n",
    "# delete from 테이블명 where 컬럼의 값"
   ]
  },
  {
   "cell_type": "code",
   "execution_count": 93,
   "metadata": {},
   "outputs": [],
   "source": [
    "# 이름이 닥터윌인 데이터를 삭제\n",
    "\n",
    "sql = 'delete from tbl_users where user_name = \"닥터윌\"'\n",
    "cur.execute(sql)\n",
    "conn.commit()"
   ]
  },
  {
   "cell_type": "code",
   "execution_count": 91,
   "metadata": {},
   "outputs": [
    {
     "data": {
      "text/plain": [
       "((1, '아이유', '1111'), (2, '카리나', '1515'), (4, '윤하', '0486'))"
      ]
     },
     "execution_count": 91,
     "metadata": {},
     "output_type": "execute_result"
    }
   ],
   "source": [
    "sql= 'select*from tbl_users'\n",
    "cur.execute(sql)\n",
    "cur.fetchall()\n"
   ]
  },
  {
   "cell_type": "code",
   "execution_count": 94,
   "metadata": {},
   "outputs": [
    {
     "data": {
      "text/plain": [
       "(('tbl_email',), ('tbl_users',))"
      ]
     },
     "execution_count": 94,
     "metadata": {},
     "output_type": "execute_result"
    }
   ],
   "source": [
    "# 테이블 목록 조회\n",
    "# show tables\n",
    "\n",
    "sql = 'show tables'\n",
    "\n",
    "cur.execute(sql)\n",
    "cur.fetchall()"
   ]
  },
  {
   "cell_type": "code",
   "execution_count": 95,
   "metadata": {},
   "outputs": [
    {
     "data": {
      "text/plain": [
       "0"
      ]
     },
     "execution_count": 95,
     "metadata": {},
     "output_type": "execute_result"
    }
   ],
   "source": [
    "# 테이블 삭제\n",
    "# drop table 테이블명\n",
    "\n",
    "sql = 'drop table tbl_email'\n",
    "cur.execute(sql)\n",
    "# 삭제는 commit 안해도 알아서 저장된다"
   ]
  },
  {
   "cell_type": "code",
   "execution_count": 96,
   "metadata": {},
   "outputs": [
    {
     "data": {
      "text/plain": [
       "(('tbl_users',),)"
      ]
     },
     "execution_count": 96,
     "metadata": {},
     "output_type": "execute_result"
    }
   ],
   "source": [
    "sql = 'show tables'\n",
    "cur.execute(sql)\n",
    "cur.fetchall()"
   ]
  },
  {
   "cell_type": "code",
   "execution_count": null,
   "metadata": {},
   "outputs": [],
   "source": [
    "# 4. 연결 끊기\n",
    "\n",
    "# conn.close()"
   ]
  },
  {
   "cell_type": "code",
   "execution_count": null,
   "metadata": {},
   "outputs": [],
   "source": []
  }
 ],
 "metadata": {
  "kernelspec": {
   "display_name": "base",
   "language": "python",
   "name": "python3"
  },
  "language_info": {
   "codemirror_mode": {
    "name": "ipython",
    "version": 3
   },
   "file_extension": ".py",
   "mimetype": "text/x-python",
   "name": "python",
   "nbconvert_exporter": "python",
   "pygments_lexer": "ipython3",
   "version": "3.11.7"
  }
 },
 "nbformat": 4,
 "nbformat_minor": 2
}
